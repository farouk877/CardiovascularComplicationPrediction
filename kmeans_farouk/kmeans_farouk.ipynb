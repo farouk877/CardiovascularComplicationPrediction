{
 "cells": [
  {
   "cell_type": "code",
   "execution_count": 67,
   "metadata": {},
   "outputs": [],
   "source": [
    "import sys\n",
    "import matplotlib\n",
    "import numpy as np\n",
    "import matplotlib.pyplot as plt\n",
    "import matplotlib.ticker as ticker\n",
    "import sklearn.cluster\n",
    "%matplotlib notebook\n",
    "%matplotlib inline"
   ]
  },
  {
   "cell_type": "code",
   "execution_count": 68,
   "metadata": {},
   "outputs": [],
   "source": [
    "# retrieve the dataset\n",
    "dataset_path = '../datasets/clean_data/clean_data_no_title.csv'\n",
    "titles_path = '../datasets/clean_data/clean_data_only_title.csv'\n",
    "\n",
    "all_data = np.genfromtxt(dataset_path, delimiter=',')\n",
    "all_titles = np.genfromtxt(titles_path, delimiter=',', dtype='str')"
   ]
  },
  {
   "cell_type": "code",
   "execution_count": null,
   "metadata": {},
   "outputs": [],
   "source": [
    "# normalize the data with range from 0 to 1 to prevent bias\n",
    "# use this formula: (x - min) / (max - min)\n",
    "\n",
    "max_values = np.amax(all_data, axis=0)\n",
    "min_values = np.amin(all_data, axis=0)\n",
    "\n",
    "max_minus_min = max_values - min_values\n",
    "\n",
    "broadcasted_min_values = np.broadcast_to(min_values, (all_data.shape[0], max_minus_min.shape[0]))\n",
    "\n",
    "x_minus_min = all_data - broadcasted_min_values\n",
    "\n",
    "normalized_data = x_minus_min / max_minus_min\n",
    "np.save('normalized_clean_data.npy', normalized_data)"
   ]
  },
  {
   "cell_type": "code",
   "execution_count": 69,
   "metadata": {},
   "outputs": [],
   "source": [
    "all_data = np.load('normalized_clean_data.npy')\n",
    "\n",
    "# exclude the target value from the dataset and titles\n",
    "data = all_data[:,:all_data.shape[1]-1]\n",
    "titles = all_titles[:all_titles.shape[0]-1]"
   ]
  },
  {
   "cell_type": "code",
   "execution_count": 70,
   "metadata": {},
   "outputs": [],
   "source": [
    "# run kmeans algorithm multiple times to observe the loss values at each k value\n",
    "max_num_clusters = 20\n",
    "loss_arr = np.zeros(max_num_clusters)\n",
    "for k in range(1, max_num_clusters+1):\n",
    "    kmeans = sklearn.cluster.KMeans(n_clusters=k).fit(data)\n",
    "    labels = kmeans.labels_\n",
    "    clusters = kmeans.cluster_centers_\n",
    "    loss = kmeans.inertia_\n",
    "    n_iter = kmeans.n_iter_\n",
    "    loss_arr[k-1] = loss"
   ]
  },
  {
   "cell_type": "code",
   "execution_count": 71,
   "metadata": {},
   "outputs": [
    {
     "data": {
      "image/png": "[encoded data removed]",
      "text/plain": [
       "<Figure size 432x288 with 1 Axes>"
      ]
     },
     "metadata": {
      "needs_background": "light"
     },
     "output_type": "display_data"
    }
   ],
   "source": [
    "# plot the loss as a function of the number of cluster centers (k)\n",
    "x = np.arange(20) + 1\n",
    "y = loss_arr\n",
    "fig, ax = plt.subplots()\n",
    "ax.set_title(\"KMeans Loss for K Different Clusters\")\n",
    "ax.set_xlabel('Number of clusters (k)')\n",
    "ax.set_ylabel('Loss (kmeans objective function)')\n",
    "ax.plot(x,y)\n",
    "start, end = ax.get_xlim()\n",
    "ax.xaxis.set_ticks(np.arange(1, 21, 1))\n",
    "plt.show()"
   ]
  },
  {
   "cell_type": "code",
   "execution_count": 72,
   "metadata": {},
   "outputs": [
    {
     "data": {
      "image/png": "[encoded data removed]",
      "text/plain": [
       "<Figure size 432x288 with 1 Axes>"
      ]
     },
     "metadata": {
      "needs_background": "light"
     },
     "output_type": "display_data"
    }
   ],
   "source": [
    "# plot the distribution of the normalized death rate \n",
    "## this is useful to inform us about how we choose our \"risk bins\"\n",
    "\n",
    "hist = np.histogram(all_data[:,41], bins=20)\n",
    "plt.bar(np.arange(20), hist[0], color='green')\n",
    "plt.show()"
   ]
  },
  {
   "cell_type": "code",
   "execution_count": 73,
   "metadata": {},
   "outputs": [
    {
     "name": "stdout",
     "output_type": "stream",
     "text": [
      "Bin 0 range of values: 0.0 - 0.14131193300767622\n",
      "Bin 1 range of values: 0.1414863921842289 - 0.2027215631542219\n",
      "Bin 2 range of values: 0.2027215631542219 - 0.27581995812979765\n",
      "Bin 3 range of values: 0.27599441730635027 - 1.0\n"
     ]
    }
   ],
   "source": [
    "# choose the way we want to define these risk bins\n",
    "\n",
    "sorted_by_target_val = all_data[np.argsort(all_data[:,41])]\n",
    "\n",
    "# METHOD 1: assign bins with approx. equal number of points per bin\n",
    "num_bins = 4\n",
    "actual_bins = []\n",
    "for i in range(num_bins):\n",
    "    start = int((all_data.shape[0] / num_bins) * i)\n",
    "    stop = int((all_data.shape[0] / num_bins) * (i+1))\n",
    "    actual_bins.append(sorted_by_target_val[start:stop,:])\n",
    "# get info about range (of target value) of each bin\n",
    "bin_ranges = []\n",
    "for i in range(num_bins):\n",
    "    min_val = np.min(actual_bins[i][:,41])\n",
    "    max_val = np.max(actual_bins[i][:,41])\n",
    "    bin_ranges.append([min_val, max_val])\n",
    "    print(\"Bin {} range of values: {} - {}\".format(i, min_val, max_val))"
   ]
  },
  {
   "cell_type": "code",
   "execution_count": null,
   "metadata": {},
   "outputs": [],
   "source": [
    "# find the avg death rate per cluster, and assign it to the appropriate bin\n",
    "\n",
    "# number of optimal clusters\n",
    "num_optimal_clusters = 70\n",
    "# use k=6, because that's what we found to be ideal (well not really... just using naked eye)\n",
    "kmeans = sklearn.cluster.KMeans(n_clusters=num_optimal_clusters).fit(data)\n",
    "labels = kmeans.labels_\n",
    "clusters = kmeans.cluster_centers_\n",
    "loss = kmeans.inertia_\n",
    "n_iter = kmeans.n_iter_\n",
    "\n",
    "# initialize the dictionary\n",
    "avg_death_clusters = {}\n",
    "for i in range(num_optimal_clusters):\n",
    "    avg_death_clusters[i] = 0.0\n",
    "\n",
    "# get the avg death rate for each cluster, and display\n",
    "for i in range(labels.shape[0]):\n",
    "    cluster_number = labels[i]\n",
    "    death_rate = all_data[i, 41]\n",
    "    avg_death_clusters[cluster_number] += death_rate\n",
    "bincount = np.bincount(labels)\n",
    "for i in range(num_optimal_clusters):\n",
    "    avg_death_clusters[i] = avg_death_clusters[i] / bincount[i]\n",
    "# print(avg_death_clusters)\n",
    "\n",
    "# assign each cluster a bin, and display\n",
    "bin_assignments = np.zeros(num_optimal_clusters)\n",
    "for i in range(num_optimal_clusters):\n",
    "    for j in range(len(bin_ranges)):\n",
    "        if avg_death_clusters[i] < bin_ranges[j][1]:\n",
    "            bin_assignments[i] = j\n",
    "            break\n",
    "# print(bin_assignments)\n",
    "\n",
    "# for each cluster, find the accuracy of the bin assignments \n",
    "## (number of points that agree with bin assignment / all points)\n",
    "### go through all points, check if target is in same bin as cluster (this means correct classif.)\n",
    "num_correctly_classified = 0\n",
    "for i in range(len(all_data)):\n",
    "    point_cluster_label = labels[i]\n",
    "    cluster_bin_index = bin_assignments[point_cluster_label].astype(int)\n",
    "    if all_data[i,41] < bin_ranges[cluster_bin_index][1] and all_data[i,41] >= bin_ranges[cluster_bin_index][0]:\n",
    "        num_correctly_classified += 1\n",
    "    elif all_data[i,41] == 1.0 and cluster_bin_index == len(bin_ranges)-1:\n",
    "        num_correctly_classified += 1\n",
    "\n",
    "# display the accuracy score\n",
    "print(\"Correctly classified {} points\".format(num_correctly_classified))\n",
    "print(\"Accuracy: {}\".format(num_correctly_classified / len(all_data)))"
   ]
  },
  {
   "cell_type": "code",
   "execution_count": null,
   "metadata": {},
   "outputs": [],
   "source": []
  }
 ],
 "metadata": {
  "kernelspec": {
   "display_name": "Python 3",
   "language": "python",
   "name": "python3"
  },
  "language_info": {
   "codemirror_mode": {
    "name": "ipython",
    "version": 3
   },
   "file_extension": ".py",
   "mimetype": "text/x-python",
   "name": "python",
   "nbconvert_exporter": "python",
   "pygments_lexer": "ipython3",
   "version": "3.7.5"
  }
 },
 "nbformat": 4,
 "nbformat_minor": 4
}
