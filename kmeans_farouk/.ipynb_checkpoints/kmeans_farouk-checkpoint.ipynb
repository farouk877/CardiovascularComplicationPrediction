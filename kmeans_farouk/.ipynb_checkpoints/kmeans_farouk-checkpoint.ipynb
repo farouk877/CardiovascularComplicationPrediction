{
 "cells": [
  {
   "cell_type": "code",
   "execution_count": 174,
   "metadata": {},
   "outputs": [],
   "source": [
    "import sys\n",
    "import matplotlib\n",
    "import numpy as np\n",
    "import matplotlib.pyplot as plt\n",
    "import matplotlib.ticker as ticker\n",
    "import sklearn.cluster\n",
    "%matplotlib notebook\n",
    "%matplotlib inline"
   ]
  },
  {
   "cell_type": "code",
   "execution_count": null,
   "metadata": {},
   "outputs": [],
   "source": [
    "# retrieve the dataset\n",
    "dataset_path = '../datasets/clean_data/clean_data_no_title.csv'\n",
    "titles_path = '../datasets/clean_data/clean_data_only_title.csv'\n",
    "\n",
    "all_data = np.genfromtxt(dataset_path, delimiter=',')\n",
    "all_titles = np.genfromtxt(titles_path, delimiter=',', dtype='str')"
   ]
  },
  {
   "cell_type": "code",
   "execution_count": null,
   "metadata": {},
   "outputs": [],
   "source": [
    "# normalize the data with range from 0 to 1 to prevent bias\n",
    "# use this formula: (x - min) / (max - min)\n",
    "\n",
    "max_values = np.amax(all_data, axis=0)\n",
    "min_values = np.amin(all_data, axis=0)\n",
    "\n",
    "max_minus_min = max_values - min_values\n",
    "\n",
    "broadcasted_min_values = np.broadcast_to(min_values, (all_data.shape[0], max_minus_min.shape[0]))\n",
    "\n",
    "x_minus_min = all_data - broadcasted_min_values\n",
    "\n",
    "normalized_data = x_minus_min / max_minus_min\n",
    "np.save('normalized_clean_data.npy', normalized_data)"
   ]
  },
  {
   "cell_type": "code",
   "execution_count": 177,
   "metadata": {},
   "outputs": [],
   "source": [
    "all_data = np.load('normalized_clean_data.npy')\n",
    "\n",
    "# exclude the target value from the dataset and titles\n",
    "data = all_data[:,:all_data.shape[1]-1]\n",
    "titles = all_titles[:all_titles.shape[0]-1]"
   ]
  },
  {
   "cell_type": "code",
   "execution_count": 178,
   "metadata": {},
   "outputs": [],
   "source": [
    "# run kmeans algorithm multiple times to observe the loss values at each k value\n",
    "max_num_clusters = 20\n",
    "loss_arr = np.zeros(max_num_clusters)\n",
    "for k in range(1, max_num_clusters+1):\n",
    "    kmeans = sklearn.cluster.KMeans(n_clusters=k).fit(data)\n",
    "    labels = kmeans.labels_\n",
    "    clusters = kmeans.cluster_centers_\n",
    "    loss = kmeans.inertia_\n",
    "    n_iter = kmeans.n_iter_\n",
    "    loss_arr[k-1] = loss"
   ]
  },
  {
   "cell_type": "code",
   "execution_count": 179,
   "metadata": {},
   "outputs": [
    {
     "data": {
      "image/png": "[encoded data removed]",
      "text/plain": [
       "<Figure size 432x288 with 1 Axes>"
      ]
     },
     "metadata": {
      "needs_background": "light"
     },
     "output_type": "display_data"
    }
   ],
   "source": [
    "# plot the loss as a function of the number of cluster centers (k)\n",
    "x = np.arange(20) + 1\n",
    "y = loss_arr\n",
    "fig, ax = plt.subplots()\n",
    "ax.set_title(\"KMeans Loss for K Different Clusters\")\n",
    "ax.set_xlabel('Number of clusters (k)')\n",
    "ax.set_ylabel('Loss (kmeans objective function)')\n",
    "ax.plot(x,y)\n",
    "start, end = ax.get_xlim()\n",
    "ax.xaxis.set_ticks(np.arange(1, 21, 1))\n",
    "plt.show()"
   ]
  },
  {
   "cell_type": "code",
   "execution_count": 200,
   "metadata": {},
   "outputs": [
    {
     "data": {
      "image/png": "[encoded data removed]",
      "text/plain": [
       "<Figure size 432x288 with 1 Axes>"
      ]
     },
     "metadata": {
      "needs_background": "light"
     },
     "output_type": "display_data"
    }
   ],
   "source": [
    "# plot the distribution of the normalized death rate \n",
    "## this is useful to inform us about how we choose our \"risk bins\"\n",
    "\n",
    "hist = np.histogram(all_data[:,41], bins=20)\n",
    "plt.bar(np.arange(20), hist[0], color='green')\n",
    "plt.show()"
   ]
  },
  {
   "cell_type": "code",
   "execution_count": null,
   "metadata": {},
   "outputs": [],
   "source": [
    "# choose the way we want to define these risk bins\n",
    "\n",
    "equal_interval_bins = []\n",
    "equal_density_bins = []"
   ]
  },
  {
   "cell_type": "code",
   "execution_count": null,
   "metadata": {},
   "outputs": [],
   "source": [
    "# find the avg death rate per cluster, and assign it to the appropriate bin\n",
    "\n",
    "# number of optimal clusters\n",
    "num_optimal_clusters = 50\n",
    "# use k=6, because that's what we found to be ideal (well not really... just using naked eye)\n",
    "kmeans = sklearn.cluster.KMeans(n_clusters=num_optimal_clusters).fit(data)\n",
    "labels = kmeans.labels_\n",
    "clusters = kmeans.cluster_centers_\n",
    "loss = kmeans.inertia_\n",
    "n_iter = kmeans.n_iter_\n",
    "\n",
    "# initialize the dictionary\n",
    "avg_death_clusters = {}\n",
    "for i in range(num_optimal_clusters):\n",
    "    avg_death_clusters[i] = 0.0\n",
    "\n",
    "# get the avg dealth rate for each cluster\n",
    "for i in range(labels.shape[0]):\n",
    "    cluster_number = labels[i]\n",
    "    death_rate = all_data[i, 41]\n",
    "    avg_death_clusters[cluster_number] += death_rate\n",
    "bincount = np.bincount(labels)\n",
    "for i in range(num_optimal_clusters):\n",
    "    avg_death_clusters[i] = avg_death_clusters[i] / bincount[i]\n",
    "\n",
    "# show the resulting death rate for each cluster\n",
    "print(avg_death_clusters)"
   ]
  },
  {
   "cell_type": "code",
   "execution_count": null,
   "metadata": {},
   "outputs": [],
   "source": []
  }
 ],
 "metadata": {
  "kernelspec": {
   "display_name": "Python 3",
   "language": "python",
   "name": "python3"
  },
  "language_info": {
   "codemirror_mode": {
    "name": "ipython",
    "version": 3
   },
   "file_extension": ".py",
   "mimetype": "text/x-python",
   "name": "python",
   "nbconvert_exporter": "python",
   "pygments_lexer": "ipython3",
   "version": "3.7.5"
  }
 },
 "nbformat": 4,
 "nbformat_minor": 4
}
